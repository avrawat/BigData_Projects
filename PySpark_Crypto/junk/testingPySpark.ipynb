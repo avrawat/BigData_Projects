{
 "cells": [
  {
   "cell_type": "code",
   "execution_count": 1,
   "metadata": {},
   "outputs": [
    {
     "name": "stdout",
     "output_type": "stream",
     "text": [
      "Hello\n"
     ]
    }
   ],
   "source": [
    "print(\"Hello\")"
   ]
  },
  {
   "cell_type": "code",
   "execution_count": null,
   "metadata": {},
   "outputs": [],
   "source": [
    "{\"symbol\":\"XRP\",\"timestamp\":\"2020-01-04 19:47:00\",\"priceData\":{\"close\":0.192,\"high\":0.192,\"low\":0.192,\"open\":0.192,\"volume\":5596.78}}\n",
    "{\"symbol\":\"ETH\",\"timestamp\":\"2020-01-04 19:47:00\",\"priceData\":{\"close\":132.96,\"high\":132.98,\"low\":132.96,\"open\":132.97,\"volume\":-1902.1100000000001}}\n",
    "{\"symbol\":\"LTC\",\"timestamp\":\"2020-01-04 19:47:00\",\"priceData\":{\"close\":42.09,\"high\":42.09,\"low\":42.07,\"open\":42.07,\"volume\":-922.04}}\n",
    "{\"symbol\":\"XRP\",\"timestamp\":\"2020-01-04 19:47:00\",\"priceData\":{\"close\":0.192,\"high\":0.192,\"low\":0.192,\"open\":0.192,\"volume\":5596.78}}\n",
    "\n"
   ]
  },
  {
   "cell_type": "code",
   "execution_count": 2,
   "metadata": {},
   "outputs": [],
   "source": [
    "a = '{\"symbol\":\"XRP\",\"timestamp\":\"2020-01-04 19:47:00\",\"priceData\":{\"close\":0.192,\"high\":0.192,\"low\":0.192,\"open\":0.192,\"volume\":5596.78}}'"
   ]
  },
  {
   "cell_type": "code",
   "execution_count": 3,
   "metadata": {},
   "outputs": [
    {
     "data": {
      "text/plain": [
       "'{\"symbol\":\"XRP\",\"timestamp\":\"2020-01-04 19:47:00\",\"priceData\":{\"close\":0.192,\"high\":0.192,\"low\":0.192,\"open\":0.192,\"volume\":5596.78}}'"
      ]
     },
     "execution_count": 3,
     "metadata": {},
     "output_type": "execute_result"
    }
   ],
   "source": [
    "a"
   ]
  },
  {
   "cell_type": "code",
   "execution_count": 4,
   "metadata": {},
   "outputs": [],
   "source": [
    "import json"
   ]
  },
  {
   "cell_type": "code",
   "execution_count": 14,
   "metadata": {},
   "outputs": [],
   "source": [
    "jo = json.loads(a)"
   ]
  },
  {
   "cell_type": "code",
   "execution_count": 50,
   "metadata": {},
   "outputs": [],
   "source": [
    "class stocksPrice:\n",
    "    def __init__(self,symbol,timeStamp,priceData):\n",
    "        self.__symbol = symbol\n",
    "        self.__timeStamp = timeStamp\n",
    "        self.__priceData = priceData\n",
    "        \n",
    "    def getSymbol(self):\n",
    "        return self.__symbol\n",
    "    def getTimeStamp(self):\n",
    "        return self.__timeStamp\n",
    "    def getPriceData(self):\n",
    "        return self.__priceData\n",
    "    \n",
    "    def setSymbol(self,value):\n",
    "        self.__symbol = value\n",
    "    def setTimeStamp(self,value):\n",
    "        self.__timeStamp = value\n",
    "    def setPriceData(self,value):\n",
    "        self.__priceData = value\n",
    "    \n",
    "    def __str__(self):\n",
    "        return \"Symbol-\"+self.__symbol+\",TimeStamp-\"+self.__timeStamp+\",\"+str(self.__priceData)\n",
    "    "
   ]
  },
  {
   "cell_type": "code",
   "execution_count": 48,
   "metadata": {},
   "outputs": [],
   "source": [
    "class PriceData:\n",
    "    \n",
    "    def __init__(self,op,hp,lp,cp):\n",
    "        self.__open = op\n",
    "        self.__high = hp\n",
    "        self.__low = lp\n",
    "        self.__close = cp\n",
    "    \n",
    "    def getOpen(self):\n",
    "        return self.__open    \n",
    "    def getClose(self):\n",
    "        return self.__close    \n",
    "    def getHigh(self):\n",
    "        return self.__high    \n",
    "    def getLow(self):\n",
    "        return self.__low\n",
    "    \n",
    "    def setOpen(self,value):\n",
    "        self.__open = value    \n",
    "    def setHigh(self,value):\n",
    "        self.__high = value    \n",
    "    def setLow(self,value):\n",
    "        self.__low = value    \n",
    "    def setClose(self,value):\n",
    "        self.__close = value\n",
    "    \n",
    "    def __str__(self):\n",
    "        return \"Price[Open-\"+str(self.__open)+\",High-\"+str(self.__high)+\",Low-\"+str(self.__low)+\",Close-\"+str(self.__close)+\"]\"\n",
    "        "
   ]
  },
  {
   "cell_type": "code",
   "execution_count": 52,
   "metadata": {},
   "outputs": [],
   "source": [
    "pdo = PriceData(jo['priceData']['open'],jo['priceData']['high'],jo['priceData']['low'],jo['priceData']['close'])\n",
    "sto = stocksPrice(jo['symbol'],jo['timestamp'],pdo)"
   ]
  },
  {
   "cell_type": "code",
   "execution_count": 47,
   "metadata": {},
   "outputs": [
    {
     "name": "stdout",
     "output_type": "stream",
     "text": [
      " Price[Open-0.192,High-0.192,Low-0.192,Close-0.192]\n"
     ]
    }
   ],
   "source": [
    "print(pdo)"
   ]
  },
  {
   "cell_type": "code",
   "execution_count": 53,
   "metadata": {},
   "outputs": [
    {
     "name": "stdout",
     "output_type": "stream",
     "text": [
      "Symbol-XRP,TimeStamp-2020-01-04 19:47:00,Price[Open-0.192,High-0.192,Low-0.192,Close-0.192]\n"
     ]
    }
   ],
   "source": [
    "print(sto)"
   ]
  },
  {
   "cell_type": "code",
   "execution_count": 54,
   "metadata": {},
   "outputs": [],
   "source": [
    "x = ('a','b')"
   ]
  },
  {
   "cell_type": "code",
   "execution_count": 55,
   "metadata": {},
   "outputs": [
    {
     "data": {
      "text/plain": [
       "('a', 'b')"
      ]
     },
     "execution_count": 55,
     "metadata": {},
     "output_type": "execute_result"
    }
   ],
   "source": [
    "x"
   ]
  },
  {
   "cell_type": "code",
   "execution_count": 56,
   "metadata": {},
   "outputs": [
    {
     "data": {
      "text/plain": [
       "'a'"
      ]
     },
     "execution_count": 56,
     "metadata": {},
     "output_type": "execute_result"
    }
   ],
   "source": [
    "x[0]"
   ]
  },
  {
   "cell_type": "code",
   "execution_count": 61,
   "metadata": {},
   "outputs": [
    {
     "data": {
      "text/plain": [
       "True"
      ]
     },
     "execution_count": 61,
     "metadata": {},
     "output_type": "execute_result"
    }
   ],
   "source": [
    "x[1] == 'b'"
   ]
  },
  {
   "cell_type": "code",
   "execution_count": 58,
   "metadata": {},
   "outputs": [
    {
     "ename": "IndexError",
     "evalue": "tuple index out of range",
     "output_type": "error",
     "traceback": [
      "\u001b[0;31m---------------------------------------------------------------------------\u001b[0m",
      "\u001b[0;31mIndexError\u001b[0m                                Traceback (most recent call last)",
      "\u001b[0;32m<ipython-input-58-dc2cd44e899d>\u001b[0m in \u001b[0;36m<module>\u001b[0;34m\u001b[0m\n\u001b[0;32m----> 1\u001b[0;31m \u001b[0mx\u001b[0m\u001b[0;34m[\u001b[0m\u001b[0;36m3\u001b[0m\u001b[0;34m]\u001b[0m\u001b[0;34m\u001b[0m\u001b[0;34m\u001b[0m\u001b[0m\n\u001b[0m",
      "\u001b[0;31mIndexError\u001b[0m: tuple index out of range"
     ]
    }
   ],
   "source": [
    "x[3]"
   ]
  },
  {
   "cell_type": "code",
   "execution_count": null,
   "metadata": {},
   "outputs": [],
   "source": []
  }
 ],
 "metadata": {
  "kernelspec": {
   "display_name": "Python 3",
   "language": "python",
   "name": "python3"
  },
  "language_info": {
   "codemirror_mode": {
    "name": "ipython",
    "version": 3
   },
   "file_extension": ".py",
   "mimetype": "text/x-python",
   "name": "python",
   "nbconvert_exporter": "python",
   "pygments_lexer": "ipython3",
   "version": "3.7.3"
  }
 },
 "nbformat": 4,
 "nbformat_minor": 2
}
